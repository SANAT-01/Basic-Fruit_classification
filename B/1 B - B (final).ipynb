{
 "cells": [
  {
   "cell_type": "markdown",
   "id": "79d63ee3",
   "metadata": {},
   "source": [
    "This is combined code of both the members, as we tried different descripter to explore different techniques and analyze the accuracy.From here on, Canny edge detector with flattening is used to extract the feature of the images. Later we will see the results for HOG."
   ]
  },
  {
   "cell_type": "code",
   "execution_count": 45,
   "id": "c784498d",
   "metadata": {},
   "outputs": [],
   "source": [
    "# Importing libraries\n",
    "\n",
    "import numpy as np\n",
    "from keras.preprocessing import image\n",
    "import cv2 as cv\n",
    "from pathlib import Path\n",
    "from sklearn.model_selection import train_test_split\n",
    "from skimage.io import imread\n",
    "import matplotlib.pyplot as plt\n",
    "import os\n",
    "from skimage import feature\n",
    "from sklearn.metrics import accuracy_score, precision_score, recall_score, f1_score"
   ]
  },
  {
   "cell_type": "code",
   "execution_count": 32,
   "id": "a04b0f42",
   "metadata": {},
   "outputs": [],
   "source": [
    "def process(container_path): # to load images files\n",
    "    image_dir = Path(container_path)\n",
    "    folders = [directory for directory in image_dir.iterdir() if directory.is_dir()]\n",
    "    categories = [fo.name for fo in folders]\n",
    "    train_img = []\n",
    "    counts = []\n",
    "    for i, direc in enumerate(folders):\n",
    "        s = 0\n",
    "        for file in direc.iterdir():\n",
    "            s += 1\n",
    "            img = imread(file)\n",
    "            img = cv.cvtColor(img, cv.COLOR_BGR2GRAY)\n",
    "            img_pred = cv.resize(img, (50, 50), interpolation=cv.INTER_AREA)\n",
    "            img_pred = image.img_to_array(img_pred)\n",
    "            img_pred = img_pred / 255\n",
    "            train_img.append(img_pred)\n",
    "        counts.append(s)\n",
    "    \n",
    "    X = np.array(train_img)\n",
    "    return X,counts,categories"
   ]
  },
  {
   "cell_type": "code",
   "execution_count": 36,
   "id": "dc96d667",
   "metadata": {},
   "outputs": [],
   "source": [
    "# Path to the dataset\n",
    "paths = r\"D:\\DOC\\COLLEGE DOC\\NOTES\\SEMESTER 4\\Data analysis\\fr\\fruits-360\""
   ]
  },
  {
   "cell_type": "code",
   "execution_count": 39,
   "id": "ec6b21b3",
   "metadata": {},
   "outputs": [
    {
     "name": "stdout",
     "output_type": "stream",
     "text": [
      "Trainig Files imported successfully\n",
      "X train of lenght 6163\n",
      "The number of images in each folders are [492, 444, 427, 490, 450, 490, 492, 490, 468, 490, 490, 490, 450]\n",
      "Test Files imported successfully\n",
      "X test of lenght 1921\n",
      "The number of images in each folders are [164, 148, 143, 166, 166, 164, 166, 156, 166, 166, 166, 150]\n"
     ]
    }
   ],
   "source": [
    "# Training dataset\n",
    "X_train,counts,categories = process(paths+\"\\Training\")\n",
    "y_train = []\n",
    "for i,a in enumerate(counts):\n",
    "    b = np.zeros(a) + i\n",
    "    y_train = np.concatenate((y_train,b), axis=0)\n",
    "\n",
    "print(\"Trainig Files imported successfully\")\n",
    "print(\"X train of lenght\",len(X_train))\n",
    "print(\"The number of images in each folders are\", counts)\n",
    "\n",
    "# Testing dataset\n",
    "X_test,counts,categories = process(paths+\"\\Test\")\n",
    "y_test = []\n",
    "for i,a in enumerate(counts):\n",
    "    b = np.zeros(a) + i\n",
    "    y_test = np.concatenate((y_test,b), axis=0)\n",
    "    \n",
    "print(\"Test Files imported successfully\")\n",
    "print(\"X test of lenght\",len(X_test))\n",
    "print(\"The number of images in each folders are\", counts)"
   ]
  },
  {
   "cell_type": "code",
   "execution_count": 40,
   "id": "c16f7431",
   "metadata": {},
   "outputs": [
    {
     "name": "stdout",
     "output_type": "stream",
     "text": [
      "The number of fruits categories are 12\n",
      "Total number of images are 12326\n"
     ]
    }
   ],
   "source": [
    "print(\"The number of fruits categories are\", len(categories))\n",
    "print(\"Total number of images are\", len(X_train)+len(y_train))"
   ]
  },
  {
   "cell_type": "code",
   "execution_count": 41,
   "id": "b24da80a",
   "metadata": {},
   "outputs": [
    {
     "name": "stdout",
     "output_type": "stream",
     "text": [
      "X_train has a shape of (6163, 50, 50, 1)\n",
      "X_test has a shape of (1921, 50, 50, 1)\n",
      "y_train has a shape of (6163,)\n",
      "y_test has a shape of (1921,)\n",
      "\n",
      "After proper flatenning of the image array in a single dimension of length 2500\n",
      "X_train has a shape of (6163, 2500)\n",
      "X_test has a shape of (1921, 2500)\n",
      "y_train has a shape of (6163,)\n",
      "y_test has a shape of (1921,)\n"
     ]
    }
   ],
   "source": [
    "print(\"X_train has a shape of\", X_train.shape)\n",
    "print(\"X_test has a shape of\", X_test.shape)\n",
    "\n",
    "print(\"y_train has a shape of\", y_train.shape)\n",
    "print(\"y_test has a shape of\", y_test.shape)\n",
    "\n",
    "num_training = X_train.shape[0]\n",
    "num_test = X_test.shape[0]\n",
    "\n",
    "# Reshape the image data into rows\n",
    "X_train = np.reshape(X_train, (X_train.shape[0], -1))\n",
    "X_test = np.reshape(X_test, (X_test.shape[0], -1))\n",
    "\n",
    "print(\"\\nAfter proper flatenning of the image array in a single dimension of length\",len(X_train[0]))\n",
    "print(\"X_train has a shape of\", X_train.shape)\n",
    "print(\"X_test has a shape of\", X_test.shape)\n",
    "\n",
    "print(\"y_train has a shape of\", y_train.shape)\n",
    "print(\"y_test has a shape of\", y_test.shape)"
   ]
  },
  {
   "cell_type": "code",
   "execution_count": 42,
   "id": "d5b72f7e",
   "metadata": {},
   "outputs": [
    {
     "name": "stdout",
     "output_type": "stream",
     "text": [
      "The fruits in the training set are\n",
      "\n"
     ]
    },
    {
     "data": {
      "text/plain": [
       "['Apple Braeburn',\n",
       " 'Apple Crimson Snow',\n",
       " 'Avocado',\n",
       " 'Banana',\n",
       " 'Cactus fruit',\n",
       " 'Cantaloupe 1',\n",
       " 'Dates',\n",
       " 'Eggplant',\n",
       " 'Grape White',\n",
       " 'Guava',\n",
       " 'Passion Fruit',\n",
       " 'Potato Red']"
      ]
     },
     "execution_count": 42,
     "metadata": {},
     "output_type": "execute_result"
    }
   ],
   "source": [
    "print(\"The fruits in the training set are\\n\")\n",
    "categories"
   ]
  },
  {
   "cell_type": "code",
   "execution_count": 43,
   "id": "4e256aed",
   "metadata": {},
   "outputs": [],
   "source": [
    "class KNN(object):\n",
    "    \n",
    "    def __init__(self,fr,label):\n",
    "        self.X_train = fr\n",
    "        self.y_train = label\n",
    "\n",
    "    def L2_distances(self, Xtest):\n",
    "        num_test = Xtest.shape[0]\n",
    "        num_train = self.X_train.shape[0]\n",
    "        distances = np.zeros((num_test, num_train))\n",
    "        dot = Xtest.dot(self.X_train.T)\n",
    "        distances = np.sqrt((Xtest ** 2).sum(axis=1, keepdims=1) + (self.X_train ** 2).sum(axis=1) - 2 * dot)\n",
    "        return distances\n",
    "\n",
    "    def predict(self, dists, k=1):\n",
    "        num_test = dists.shape[0]\n",
    "        y_pred = np.zeros(num_test)\n",
    "        for i in range(num_test):\n",
    "            closest_y = self.y_train[np.argsort(dists[i])][0:k]\n",
    "            #print(closest_y)\n",
    "            closest_y = closest_y.astype(int)\n",
    "            y_pred[i] = np.bincount(closest_y).argmax()\n",
    "        return y_pred"
   ]
  },
  {
   "cell_type": "code",
   "execution_count": 44,
   "id": "331171ed",
   "metadata": {},
   "outputs": [
    {
     "name": "stdout",
     "output_type": "stream",
     "text": [
      "Accuracy is 0.30400832899531494\n"
     ]
    }
   ],
   "source": [
    "classifier = KNN(X_train, y_train)\n",
    "\n",
    "distances = classifier.L2_distances(X_test)\n",
    "y_val_pred = classifier.predict(distances, k=2)\n",
    "num_correct = np.sum(y_val_pred == y_test)\n",
    "accuracy = num_correct / num_test\n",
    "\n",
    "print(\"Accuracy is\",accuracy)"
   ]
  },
  {
   "cell_type": "code",
   "execution_count": 55,
   "id": "270a7961",
   "metadata": {},
   "outputs": [
    {
     "name": "stdout",
     "output_type": "stream",
     "text": [
      "Accuracy: 0.30400832899531494\n",
      "Precision: 0.32129175240331737\n",
      "Recall: 0.30400832899531494\n",
      "F1 Score: 0.30971196136259677\n"
     ]
    }
   ],
   "source": [
    "acc = num_correct / num_test\n",
    "prec = precision_score(y_test,y_val_pred,average='weighted')\n",
    "recall = recall_score(y_test,y_val_pred,average='weighted',zero_division=1)\n",
    "f1score = f1_score(y_test,y_val_pred,average='weighted')\n",
    "print(\"Accuracy:\",acc)\n",
    "print(\"Precision:\",prec)\n",
    "print(\"Recall:\",recall)\n",
    "print(\"F1 Score:\",f1score)"
   ]
  },
  {
   "cell_type": "markdown",
   "id": "40f0de2b",
   "metadata": {},
   "source": [
    "The expected average accuracy is very low, as consedering only edge detection; many fruits will resembel in outer shape and thus the accuracy score drops.\n",
    "\n",
    "To improve the results we will use HOG descriptor."
   ]
  },
  {
   "cell_type": "code",
   "execution_count": 27,
   "id": "4be3ac94",
   "metadata": {},
   "outputs": [],
   "source": [
    "# Path to the dataset\n",
    "r = \"D:/DOC/COLLEGE DOC/NOTES/SEMESTER 4/Data analysis/fr/fruits-360\""
   ]
  },
  {
   "cell_type": "code",
   "execution_count": 28,
   "id": "c2b64798",
   "metadata": {},
   "outputs": [
    {
     "name": "stdout",
     "output_type": "stream",
     "text": [
      "Apple Braeburn\n",
      "Apple Crimson Snow\n",
      "Avocado\n",
      "Banana\n",
      "Beetroot\n",
      "Cactus fruit\n",
      "Cantaloupe 1\n",
      "Dates\n",
      "Eggplant\n",
      "Grape White\n",
      "Guava\n",
      "Passion Fruit\n",
      "Potato Red\n"
     ]
    }
   ],
   "source": [
    "image_paths = os.listdir(f\"{r}/Training\")\n",
    "images = []\n",
    "for path in image_paths:\n",
    "    all_images = os.listdir(f\"{r}/Training/{path}\")\n",
    "    for image in all_images:\n",
    "        image_path = f\"{r}/Training/{path}/{image}\"\n",
    "        image = cv.imread(image_path)\n",
    "        image = cv.resize(image, (64,64))\n",
    "        image = cv.cvtColor(image, cv.COLOR_BGR2GRAY)\n",
    "        # HOG descriptor for the image\n",
    "        hog_desc = feature.hog(image, orientations=9, pixels_per_cell=(8, 8),\n",
    "            cells_per_block=(2, 2), transform_sqrt=True, block_norm='L2-Hys')\n",
    "        images.append([hog_desc,path])\n",
    "    print(path)"
   ]
  },
  {
   "cell_type": "code",
   "execution_count": 62,
   "id": "6f514d41",
   "metadata": {},
   "outputs": [
    {
     "name": "stdout",
     "output_type": "stream",
     "text": [
      "Apple Braeburn\n",
      "Apple Crimson Snow\n",
      "Avocado\n",
      "Banana\n",
      "Cactus fruit\n",
      "Cantaloupe 1\n",
      "Dates\n",
      "Eggplant\n",
      "Grape White\n",
      "Guava\n",
      "Passion Fruit\n",
      "Potato Red\n"
     ]
    }
   ],
   "source": [
    "test_image_paths = os.listdir(f\"{r}/Test\")\n",
    "prediction=[]\n",
    "test_label= []\n",
    "y1_test=[]\n",
    "y1_pred=[]\n",
    "for path in test_image_paths:\n",
    "\n",
    "    all_test_images = os.listdir(f\"{r}/Test/{path}\")\n",
    "\n",
    "    image_pred=[]\n",
    "    for image in all_test_images:\n",
    "        image_path = f\"{r}/Test/{path}/{image}\"\n",
    "        image = cv.imread(image_path)\n",
    "        image = cv.resize(image, (64, 64))\n",
    "        image = cv.cvtColor(image, cv.COLOR_BGR2GRAY)\n",
    "        # HOG descriptor for the image\n",
    "        hog_desc = feature.hog(image, orientations=9, pixels_per_cell=(8, 8),\n",
    "            cells_per_block=(2, 2), transform_sqrt=True, block_norm='L2-Hys')\n",
    "\n",
    "        dist=[]\n",
    "        for i in images:\n",
    "            dist.append((np.linalg.norm(i[0]-hog_desc),i[1]))\n",
    "        dist=sorted(dist)\n",
    "        dist=dist[:5]\n",
    "        count=dict()\n",
    "        for i in range(5):\n",
    "            count[dist[i][1]]=count.get(dist[i][1],0)+1\n",
    "        ans=[0,0]\n",
    "        for k in count:\n",
    "            if ans[1]<count[k]:\n",
    "                ans[0]=k\n",
    "                ans[1]=count[k]\n",
    "        image_pred.append(ans[0])\n",
    "        y1_pred.append(ans[0])\n",
    "        y1_test.append(path)\n",
    "    prediction.append(image_pred)\n",
    "    print(path)\n",
    "    test_label.append(path)"
   ]
  },
  {
   "cell_type": "markdown",
   "id": "3afe9286",
   "metadata": {},
   "source": [
    "The training time increase very much as compared to prototype based learning, as we are taking distance from each training image."
   ]
  },
  {
   "cell_type": "code",
   "execution_count": 63,
   "id": "f2557550",
   "metadata": {},
   "outputs": [
    {
     "name": "stdout",
     "output_type": "stream",
     "text": [
      "Accuracy for the prediction of class Apple Braeburn is  0.8841463414634146\n",
      "Accuracy for the prediction of class Apple Crimson Snow is  1.0\n",
      "Accuracy for the prediction of class Avocado is  0.8461538461538461\n",
      "Accuracy for the prediction of class Banana is  0.7650602409638554\n",
      "Accuracy for the prediction of class Cactus fruit is  0.8975903614457831\n",
      "Accuracy for the prediction of class Cantaloupe 1 is  1.0\n",
      "Accuracy for the prediction of class Dates is  1.0\n",
      "Accuracy for the prediction of class Eggplant is  0.7692307692307693\n",
      "Accuracy for the prediction of class Grape White is  0.9337349397590361\n",
      "Accuracy for the prediction of class Guava is  1.0\n",
      "Accuracy for the prediction of class Passion Fruit is  0.927710843373494\n",
      "Accuracy for the prediction of class Potato Red is  0.6733333333333333\n",
      "\n",
      "Average is  0.8914133896436277\n"
     ]
    }
   ],
   "source": [
    "#class wise accuracy\n",
    "def accuracy(pred,real):\n",
    "    if len(real)==1:\n",
    "        real=real*len(pred)\n",
    "    return accuracy_score(real,pred)\n",
    "s=0\n",
    "for i in range(len(test_label)):\n",
    "    acc = accuracy(prediction[i],[test_label[i]])\n",
    "    s = s + acc\n",
    "    print(f\"Accuracy for the prediction of class {test_label[i]} is \",acc)\n",
    "print(\"\\nAverage is \",s/len(test_label))"
   ]
  },
  {
   "cell_type": "code",
   "execution_count": 67,
   "id": "86513b9e",
   "metadata": {},
   "outputs": [
    {
     "name": "stdout",
     "output_type": "stream",
     "text": [
      "Accuracy: 0.8932847475273296\n",
      "Precision: 0.923782873308579\n",
      "Recall: 0.8932847475273296\n",
      "F1 Score: 0.9024271190347646\n"
     ]
    }
   ],
   "source": [
    "acc = accuracy_score(y1_test,y1_pred)\n",
    "prec = precision_score(y1_test,y1_pred,average='weighted')\n",
    "recall = recall_score(y1_test,y1_pred,average='weighted',zero_division=1)\n",
    "f1score = f1_score(y1_test,y1_pred,average='weighted')\n",
    "print(\"Accuracy:\",acc)\n",
    "print(\"Precision:\",prec)\n",
    "print(\"Recall:\",recall)\n",
    "print(\"F1 Score:\",f1score)"
   ]
  },
  {
   "cell_type": "markdown",
   "id": "589a1778",
   "metadata": {},
   "source": [
    "Moreover the relative accuracy increases in case of KNN as compared to prototype learning.\n",
    "As from the first part we acheived the accuracy of 0.49 in case of prototype learning, but in this case KNN give better results. This is compoaritive results based on classification technique.\n",
    "\n",
    "CONCLUSION: KNN is better approach to achieve higher accuracy but is not very time efficient as compared to prototype learning."
   ]
  }
 ],
 "metadata": {
  "kernelspec": {
   "display_name": "Python 3 (ipykernel)",
   "language": "python",
   "name": "python3"
  },
  "language_info": {
   "codemirror_mode": {
    "name": "ipython",
    "version": 3
   },
   "file_extension": ".py",
   "mimetype": "text/x-python",
   "name": "python",
   "nbconvert_exporter": "python",
   "pygments_lexer": "ipython3",
   "version": "3.9.7"
  }
 },
 "nbformat": 4,
 "nbformat_minor": 5
}
