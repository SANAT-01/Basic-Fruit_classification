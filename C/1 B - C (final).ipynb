{
 "cells": [
  {
   "cell_type": "markdown",
   "id": "8b052118",
   "metadata": {},
   "source": [
    "In this we used MLP skeleton code and trained the model for two configuration to increase the accuracy.:\n",
    "-->[1] Number of the layers: 3 with progressive filters - 16, 32, 64\n",
    "        Optimizer: stochastic gradient descent (with learning rate: 0.01)\n",
    "--->[2] Number of the layer: 2 with progressive filters - 32, 64\n",
    "        Optimizer: Adam (Referenced from internet, it is like general gradient descent, but it performs gradient \n",
    "        descent on the random selection of the dataset instead of whole data."
   ]
  },
  {
   "cell_type": "code",
   "execution_count": 1,
   "id": "764bdf86",
   "metadata": {},
   "outputs": [],
   "source": [
    "# Importing libraries\n",
    "\n",
    "import numpy as np\n",
    "from keras.preprocessing import image\n",
    "import cv2 as cv\n",
    "from pathlib import Path\n",
    "from skimage.io import imread\n",
    "import matplotlib.pyplot as plt\n",
    "\n",
    "import tensorflow as tf\n",
    "from tensorflow.keras import datasets, layers, models"
   ]
  },
  {
   "cell_type": "code",
   "execution_count": 2,
   "id": "8099d2e4",
   "metadata": {},
   "outputs": [],
   "source": [
    "def process(container_path):\n",
    "    image_dir = Path(container_path)\n",
    "    folders = [directory for directory in image_dir.iterdir() if directory.is_dir()]\n",
    "    categories = [fo.name for fo in folders]\n",
    "    train_img = []\n",
    "    counts = []\n",
    "    for direc in folders:\n",
    "        s = 0\n",
    "        for file in direc.iterdir():\n",
    "            s += 1\n",
    "            img = imread(file)\n",
    "            img_pred = cv.resize(img, (50, 50), interpolation=cv.INTER_AREA)\n",
    "            img_pred = image.img_to_array(img_pred)\n",
    "            \n",
    "            # normalizing the array \n",
    "            img_pred = img_pred / 255\n",
    "            train_img.append(img_pred)\n",
    "        counts.append(s)\n",
    "    \n",
    "    X_train = np.array(train_img)\n",
    "    return X_train,counts,categories"
   ]
  },
  {
   "cell_type": "code",
   "execution_count": 8,
   "id": "b225253c",
   "metadata": {},
   "outputs": [],
   "source": [
    "# Path to the dataset\n",
    "\n",
    "paths = r\"D:\\DOC\\COLLEGE DOC\\NOTES\\SEMESTER 4\\Data analysis\\fruits\\fruits-360\""
   ]
  },
  {
   "cell_type": "code",
   "execution_count": 9,
   "id": "9ad13b7e",
   "metadata": {},
   "outputs": [
    {
     "name": "stdout",
     "output_type": "stream",
     "text": [
      "Trainig Files imported successfully\n",
      "X train of lenght 67692\n",
      "The number of images in each folders are [492, 444, 480, 492, 481, 492, 456, 492, 492, 429, 490, 492, 672, 492, 427, 491, 490, 450, 490, 450, 462, 490, 492, 492, 490, 702, 492, 738, 738, 492, 492, 492, 450, 490, 490, 450, 462, 392, 468, 490, 468, 702, 297, 490, 984, 492, 490, 490, 492, 471, 490, 492, 490, 464, 490, 490, 466, 471, 490, 492, 490, 490, 490, 490, 490, 426, 300, 490, 738, 492, 492, 480, 654, 534, 450, 445, 438, 479, 492, 490, 492, 738, 492, 492, 696, 490, 702, 300, 490, 666, 711, 490, 490, 444, 702, 666, 666, 492, 492, 490, 493, 490, 447, 420, 900, 492, 450, 450, 453, 450, 450, 490, 492, 490, 492, 490, 492, 738, 490, 490, 738, 672, 738, 479, 492, 684, 367, 474, 459, 735, 475]\n",
      "Test Files imported successfully\n",
      "X test of lenght 22688\n",
      "The number of images in each folders are [164, 148, 160, 164, 161, 164, 152, 164, 164, 144, 166, 164, 219, 164, 143, 166, 166, 152, 166, 150, 154, 166, 164, 164, 166, 234, 164, 246, 246, 164, 164, 164, 153, 166, 166, 150, 154, 130, 156, 166, 156, 234, 99, 166, 328, 164, 166, 166, 164, 158, 166, 164, 166, 157, 166, 166, 156, 157, 166, 164, 166, 166, 166, 166, 166, 142, 102, 166, 246, 164, 164, 160, 218, 178, 150, 155, 146, 160, 164, 166, 164, 246, 164, 164, 232, 166, 234, 102, 166, 222, 237, 166, 166, 148, 234, 222, 222, 164, 164, 166, 163, 166, 151, 142, 304, 164, 153, 150, 151, 150, 150, 166, 164, 166, 164, 162, 164, 246, 166, 166, 246, 225, 246, 160, 164, 228, 127, 158, 153, 249, 157]\n"
     ]
    }
   ],
   "source": [
    "# Loading Training dataset\n",
    "X_train,counts,categories = process(paths+\"\\Training\")\n",
    "y_train = []\n",
    "for i,a in enumerate(counts):\n",
    "    b = np.zeros(a) + i\n",
    "    y_train = np.concatenate((y_train,b), axis=0)\n",
    "\n",
    "print(\"Trainig Files imported successfully\")\n",
    "print(\"X train of lenght\",len(X_train))\n",
    "print(\"The number of images in each folders are\", counts)\n",
    "\n",
    "# Testing dataset\n",
    "X_test,counts,categories = process(paths+\"\\Test\")\n",
    "y_test = []\n",
    "for i,a in enumerate(counts):\n",
    "    b = np.zeros(a) + i\n",
    "    y_test = np.concatenate((y_test,b), axis=0)\n",
    "    \n",
    "print(\"Test Files imported successfully\")\n",
    "print(\"X test of lenght\",len(X_test))\n",
    "print(\"The number of images in each folders are\", counts)"
   ]
  },
  {
   "cell_type": "code",
   "execution_count": 10,
   "id": "006af085",
   "metadata": {},
   "outputs": [
    {
     "name": "stdout",
     "output_type": "stream",
     "text": [
      "The number of fruits categories are 131\n",
      "Total number of images are 135384\n"
     ]
    }
   ],
   "source": [
    "print(\"The number of fruits categories are\", len(categories))\n",
    "print(\"Total number of images are\", len(X_train)+len(y_train))"
   ]
  },
  {
   "cell_type": "code",
   "execution_count": 11,
   "id": "554bcf6c",
   "metadata": {},
   "outputs": [
    {
     "name": "stdout",
     "output_type": "stream",
     "text": [
      "X_train has a shape of (67692, 50, 50, 3)\n",
      "X_test has a shape of (22688, 50, 50, 3)\n",
      "y_train has a shape of (67692,)\n",
      "y_test has a shape of (22688,)\n"
     ]
    }
   ],
   "source": [
    "print(\"X_train has a shape of\", X_train.shape)\n",
    "print(\"X_test has a shape of\", X_test.shape)\n",
    "\n",
    "print(\"y_train has a shape of\", y_train.shape)\n",
    "print(\"y_test has a shape of\", y_test.shape)"
   ]
  },
  {
   "cell_type": "code",
   "execution_count": 12,
   "id": "9fdc6fc8",
   "metadata": {},
   "outputs": [
    {
     "name": "stdout",
     "output_type": "stream",
     "text": [
      "The fruits in the training set are\n",
      "\n"
     ]
    },
    {
     "data": {
      "text/plain": [
       "['Apple Braeburn',\n",
       " 'Apple Crimson Snow',\n",
       " 'Apple Golden 1',\n",
       " 'Apple Golden 2',\n",
       " 'Apple Golden 3',\n",
       " 'Apple Granny Smith',\n",
       " 'Apple Pink Lady',\n",
       " 'Apple Red 1',\n",
       " 'Apple Red 2',\n",
       " 'Apple Red 3',\n",
       " 'Apple Red Delicious',\n",
       " 'Apple Red Yellow 1',\n",
       " 'Apple Red Yellow 2',\n",
       " 'Apricot',\n",
       " 'Avocado',\n",
       " 'Avocado ripe',\n",
       " 'Banana',\n",
       " 'Banana Lady Finger',\n",
       " 'Banana Red',\n",
       " 'Beetroot',\n",
       " 'Blueberry',\n",
       " 'Cactus fruit',\n",
       " 'Cantaloupe 1',\n",
       " 'Cantaloupe 2',\n",
       " 'Carambula',\n",
       " 'Cauliflower',\n",
       " 'Cherry 1',\n",
       " 'Cherry 2',\n",
       " 'Cherry Rainier',\n",
       " 'Cherry Wax Black',\n",
       " 'Cherry Wax Red',\n",
       " 'Cherry Wax Yellow',\n",
       " 'Chestnut',\n",
       " 'Clementine',\n",
       " 'Cocos',\n",
       " 'Corn',\n",
       " 'Corn Husk',\n",
       " 'Cucumber Ripe',\n",
       " 'Cucumber Ripe 2',\n",
       " 'Dates',\n",
       " 'Eggplant',\n",
       " 'Fig',\n",
       " 'Ginger Root',\n",
       " 'Granadilla',\n",
       " 'Grape Blue',\n",
       " 'Grape Pink',\n",
       " 'Grape White',\n",
       " 'Grape White 2',\n",
       " 'Grape White 3',\n",
       " 'Grape White 4',\n",
       " 'Grapefruit Pink',\n",
       " 'Grapefruit White',\n",
       " 'Guava',\n",
       " 'Hazelnut',\n",
       " 'Huckleberry',\n",
       " 'Kaki',\n",
       " 'Kiwi',\n",
       " 'Kohlrabi',\n",
       " 'Kumquats',\n",
       " 'Lemon',\n",
       " 'Lemon Meyer',\n",
       " 'Limes',\n",
       " 'Lychee',\n",
       " 'Mandarine',\n",
       " 'Mango',\n",
       " 'Mango Red',\n",
       " 'Mangostan',\n",
       " 'Maracuja',\n",
       " 'Melon Piel de Sapo',\n",
       " 'Mulberry',\n",
       " 'Nectarine',\n",
       " 'Nectarine Flat',\n",
       " 'Nut Forest',\n",
       " 'Nut Pecan',\n",
       " 'Onion Red',\n",
       " 'Onion Red Peeled',\n",
       " 'Onion White',\n",
       " 'Orange',\n",
       " 'Papaya',\n",
       " 'Passion Fruit',\n",
       " 'Peach',\n",
       " 'Peach 2',\n",
       " 'Peach Flat',\n",
       " 'Pear',\n",
       " 'Pear 2',\n",
       " 'Pear Abate',\n",
       " 'Pear Forelle',\n",
       " 'Pear Kaiser',\n",
       " 'Pear Monster',\n",
       " 'Pear Red',\n",
       " 'Pear Stone',\n",
       " 'Pear Williams',\n",
       " 'Pepino',\n",
       " 'Pepper Green',\n",
       " 'Pepper Orange',\n",
       " 'Pepper Red',\n",
       " 'Pepper Yellow',\n",
       " 'Physalis',\n",
       " 'Physalis with Husk',\n",
       " 'Pineapple',\n",
       " 'Pineapple Mini',\n",
       " 'Pitahaya Red',\n",
       " 'Plum',\n",
       " 'Plum 2',\n",
       " 'Plum 3',\n",
       " 'Pomegranate',\n",
       " 'Pomelo Sweetie',\n",
       " 'Potato Red',\n",
       " 'Potato Red Washed',\n",
       " 'Potato Sweet',\n",
       " 'Potato White',\n",
       " 'Quince',\n",
       " 'Rambutan',\n",
       " 'Raspberry',\n",
       " 'Redcurrant',\n",
       " 'Salak',\n",
       " 'Strawberry',\n",
       " 'Strawberry Wedge',\n",
       " 'Tamarillo',\n",
       " 'Tangelo',\n",
       " 'Tomato 1',\n",
       " 'Tomato 2',\n",
       " 'Tomato 3',\n",
       " 'Tomato 4',\n",
       " 'Tomato Cherry Red',\n",
       " 'Tomato Heart',\n",
       " 'Tomato Maroon',\n",
       " 'Tomato not Ripened',\n",
       " 'Tomato Yellow',\n",
       " 'Walnut',\n",
       " 'Watermelon']"
      ]
     },
     "execution_count": 12,
     "metadata": {},
     "output_type": "execute_result"
    }
   ],
   "source": [
    "print(\"The fruits in the training set are\\n\")\n",
    "categories"
   ]
  },
  {
   "cell_type": "code",
   "execution_count": 13,
   "id": "e12095e9",
   "metadata": {},
   "outputs": [],
   "source": [
    "def predict_label(X, y, index):\n",
    "    plt.figure(figsize = (15,2))\n",
    "    plt.imshow(X[index])\n",
    "    plt.xlabel(categories[int(y[index])])"
   ]
  },
  {
   "cell_type": "code",
   "execution_count": 18,
   "id": "fde86d78",
   "metadata": {},
   "outputs": [
    {
     "data": {
      "image/png": "[encoded data removed]",
      "text/plain": [
       "<Figure size 1080x144 with 1 Axes>"
      ]
     },
     "metadata": {
      "needs_background": "light"
     },
     "output_type": "display_data"
    }
   ],
   "source": [
    "predict_label(X_train, y_train, 67000)"
   ]
  },
  {
   "cell_type": "markdown",
   "id": "81fbd641",
   "metadata": {},
   "source": [
    "Below model(cnn2) has following configuration:\n",
    " Number of the layers: 3 with progressive filters - 16, 32, 64\n",
    "        Optimizer: stochastic gradient descent (with learning rate: 0.01)"
   ]
  },
  {
   "cell_type": "code",
   "execution_count": 4,
   "id": "194e914f",
   "metadata": {},
   "outputs": [],
   "source": [
    "from sklearn.metrics import confusion_matrix , classification_report\n",
    "\n",
    "cnn2 = models.Sequential([\n",
    "    layers.Conv2D(filters=16, kernel_size=(3, 3), activation='relu', input_shape=(50,50, 3)),\n",
    "    layers.MaxPooling2D((2, 2)),\n",
    "    \n",
    "    layers.Conv2D(filters=32, kernel_size=(3, 3), activation='relu', input_shape=(50,50, 3)),\n",
    "    layers.MaxPooling2D((2, 2)),\n",
    "    \n",
    "    layers.Conv2D(filters=64, kernel_size=(3, 3), activation='relu'),\n",
    "    layers.MaxPooling2D((2, 2)),\n",
    "    \n",
    "    layers.Flatten(),\n",
    "    layers.Dense(30, activation='relu'),\n",
    "    layers.Dense(131, activation='softmax')\n",
    "])"
   ]
  },
  {
   "cell_type": "code",
   "execution_count": 5,
   "id": "f1882a0a",
   "metadata": {},
   "outputs": [],
   "source": [
    "opt = tf.keras.optimizers.SGD(learning_rate=0.01)\n",
    "cnn2.compile(optimizer=opt,\n",
    "              loss='sparse_categorical_crossentropy',\n",
    "              metrics=['accuracy'])"
   ]
  },
  {
   "cell_type": "code",
   "execution_count": 18,
   "id": "0f386905",
   "metadata": {
    "scrolled": true
   },
   "outputs": [
    {
     "name": "stdout",
     "output_type": "stream",
     "text": [
      "Epoch 1/20\n",
      "2116/2116 [==============================] - 52s 25ms/step - loss: 0.0067 - accuracy: 0.9987\n",
      "Epoch 2/20\n",
      "2116/2116 [==============================] - 50s 23ms/step - loss: 0.0122 - accuracy: 0.9972\n",
      "Epoch 3/20\n",
      "2116/2116 [==============================] - 48s 23ms/step - loss: 0.0028 - accuracy: 0.9996\n",
      "Epoch 4/20\n",
      "2116/2116 [==============================] - 50s 23ms/step - loss: 0.0152 - accuracy: 0.9973\n",
      "Epoch 5/20\n",
      "2116/2116 [==============================] - 51s 24ms/step - loss: 0.0019 - accuracy: 0.9997\n",
      "Epoch 6/20\n",
      "2116/2116 [==============================] - 51s 24ms/step - loss: 0.0010 - accuracy: 0.9999\n",
      "Epoch 7/20\n",
      "2116/2116 [==============================] - 50s 24ms/step - loss: 8.2393e-04 - accuracy: 1.0000\n",
      "Epoch 8/20\n",
      "2116/2116 [==============================] - ETA: 0s - loss: 6.3376e-04 - accuracy: 1.00 - 50s 24ms/step - loss: 6.3359e-04 - accuracy: 1.0000\n",
      "Epoch 9/20\n",
      "2116/2116 [==============================] - 50s 24ms/step - loss: 4.1260e-04 - accuracy: 1.0000\n",
      "Epoch 10/20\n",
      "2116/2116 [==============================] - 49s 23ms/step - loss: 3.6499e-04 - accuracy: 1.0000\n",
      "Epoch 11/20\n",
      "2116/2116 [==============================] - 50s 24ms/step - loss: 3.0548e-04 - accuracy: 1.0000\n",
      "Epoch 12/20\n",
      "2116/2116 [==============================] - 52s 25ms/step - loss: 2.8600e-04 - accuracy: 1.0000\n",
      "Epoch 13/20\n",
      "2116/2116 [==============================] - 49s 23ms/step - loss: 2.4322e-04 - accuracy: 1.00001s - l\n",
      "Epoch 14/20\n",
      "2116/2116 [==============================] - 54s 26ms/step - loss: 2.2475e-04 - accuracy: 1.0000\n",
      "Epoch 15/20\n",
      "2116/2116 [==============================] - 51s 24ms/step - loss: 2.0619e-04 - accuracy: 1.0000\n",
      "Epoch 16/20\n",
      "2116/2116 [==============================] - 51s 24ms/step - loss: 1.9164e-04 - accuracy: 1.0000\n",
      "Epoch 17/20\n",
      "2116/2116 [==============================] - 51s 24ms/step - loss: 1.8150e-04 - accuracy: 1.0000\n",
      "Epoch 18/20\n",
      "2116/2116 [==============================] - 54s 25ms/step - loss: 1.6941e-04 - accuracy: 1.0000\n",
      "Epoch 19/20\n",
      "2116/2116 [==============================] - 53s 25ms/step - loss: 1.5974e-04 - accuracy: 1.0000\n",
      "Epoch 20/20\n",
      "2116/2116 [==============================] - 51s 24ms/step - loss: 1.5208e-04 - accuracy: 1.0000\n"
     ]
    },
    {
     "data": {
      "text/plain": [
       "<keras.callbacks.History at 0x214fe5209a0>"
      ]
     },
     "execution_count": 18,
     "metadata": {},
     "output_type": "execute_result"
    }
   ],
   "source": [
    "cnn2.fit(X_train, y_train, epochs = 20)"
   ]
  },
  {
   "cell_type": "code",
   "execution_count": 19,
   "id": "3da2ea8c",
   "metadata": {},
   "outputs": [
    {
     "name": "stdout",
     "output_type": "stream",
     "text": [
      "709/709 [==============================] - 6s 8ms/step - loss: 0.4841 - accuracy: 0.9391\n"
     ]
    },
    {
     "data": {
      "text/plain": [
       "[0.4840969741344452, 0.9390867352485657]"
      ]
     },
     "execution_count": 19,
     "metadata": {},
     "output_type": "execute_result"
    }
   ],
   "source": [
    "cnn2.evaluate(X_test,y_test)"
   ]
  },
  {
   "cell_type": "code",
   "execution_count": 22,
   "id": "2f7bb4ed",
   "metadata": {},
   "outputs": [
    {
     "name": "stdout",
     "output_type": "stream",
     "text": [
      "              precision    recall  f1-score   support\n",
      "\n",
      "         0.0       0.93      0.80      0.86       164\n",
      "         1.0       0.92      0.91      0.92       148\n",
      "         2.0       0.99      1.00      1.00       160\n",
      "         3.0       0.97      0.90      0.93       164\n",
      "         4.0       0.77      1.00      0.87       161\n",
      "         5.0       1.00      1.00      1.00       164\n",
      "         6.0       0.73      0.71      0.72       152\n",
      "         7.0       1.00      0.96      0.98       164\n",
      "         8.0       0.80      0.94      0.86       164\n",
      "         9.0       1.00      0.94      0.97       144\n",
      "        10.0       0.98      1.00      0.99       166\n",
      "        11.0       1.00      0.76      0.87       164\n",
      "        12.0       1.00      1.00      1.00       219\n",
      "        13.0       0.66      1.00      0.79       164\n",
      "        14.0       0.97      1.00      0.99       143\n",
      "        15.0       0.89      1.00      0.94       166\n",
      "        16.0       1.00      0.75      0.86       166\n",
      "        17.0       0.78      1.00      0.88       152\n",
      "        18.0       0.89      0.84      0.87       166\n",
      "        19.0       0.94      0.89      0.91       150\n",
      "        20.0       0.97      0.90      0.93       154\n",
      "        21.0       1.00      1.00      1.00       166\n",
      "        22.0       1.00      1.00      1.00       164\n",
      "        23.0       1.00      0.99      1.00       164\n",
      "        24.0       0.76      0.86      0.81       166\n",
      "        25.0       0.92      1.00      0.96       234\n",
      "        26.0       0.85      1.00      0.92       164\n",
      "        27.0       0.97      1.00      0.98       246\n",
      "        28.0       1.00      0.96      0.98       246\n",
      "        29.0       1.00      1.00      1.00       164\n",
      "        30.0       1.00      1.00      1.00       164\n",
      "        31.0       0.99      1.00      0.99       164\n",
      "        32.0       0.86      0.88      0.87       153\n",
      "        33.0       0.97      0.92      0.94       166\n",
      "        34.0       0.95      0.94      0.94       166\n",
      "        35.0       0.99      0.46      0.63       150\n",
      "        36.0       1.00      0.82      0.90       154\n",
      "        37.0       0.87      0.65      0.74       130\n",
      "        38.0       1.00      0.96      0.98       156\n",
      "        39.0       1.00      1.00      1.00       166\n",
      "        40.0       0.75      0.57      0.65       156\n",
      "        41.0       0.86      0.90      0.88       234\n",
      "        42.0       0.97      0.87      0.91        99\n",
      "        43.0       0.99      1.00      0.99       166\n",
      "        44.0       0.95      1.00      0.98       328\n",
      "        45.0       0.90      0.99      0.94       164\n",
      "        46.0       0.96      1.00      0.98       166\n",
      "        47.0       1.00      1.00      1.00       166\n",
      "        48.0       1.00      1.00      1.00       164\n",
      "        49.0       1.00      1.00      1.00       158\n",
      "        50.0       1.00      1.00      1.00       166\n",
      "        51.0       1.00      1.00      1.00       164\n",
      "        52.0       1.00      1.00      1.00       166\n",
      "        53.0       0.96      1.00      0.98       157\n",
      "        54.0       1.00      1.00      1.00       166\n",
      "        55.0       1.00      1.00      1.00       166\n",
      "        56.0       1.00      1.00      1.00       156\n",
      "        57.0       1.00      1.00      1.00       157\n",
      "        58.0       1.00      0.99      0.99       166\n",
      "        59.0       0.96      1.00      0.98       164\n",
      "        60.0       1.00      1.00      1.00       166\n",
      "        61.0       1.00      1.00      1.00       166\n",
      "        62.0       1.00      1.00      1.00       166\n",
      "        63.0       1.00      1.00      1.00       166\n",
      "        64.0       1.00      1.00      1.00       166\n",
      "        65.0       0.96      0.93      0.95       142\n",
      "        66.0       0.80      0.74      0.77       102\n",
      "        67.0       1.00      0.80      0.89       166\n",
      "        68.0       0.98      1.00      0.99       246\n",
      "        69.0       0.99      1.00      1.00       164\n",
      "        70.0       0.85      0.87      0.86       164\n",
      "        71.0       1.00      0.86      0.93       160\n",
      "        72.0       1.00      1.00      1.00       218\n",
      "        73.0       0.74      0.89      0.81       178\n",
      "        74.0       0.88      1.00      0.94       150\n",
      "        75.0       0.85      0.87      0.86       155\n",
      "        76.0       0.54      1.00      0.70       146\n",
      "        77.0       1.00      1.00      1.00       160\n",
      "        78.0       1.00      1.00      1.00       164\n",
      "        79.0       1.00      0.96      0.98       166\n",
      "        80.0       0.92      0.75      0.83       164\n",
      "        81.0       0.90      1.00      0.95       246\n",
      "        82.0       0.88      0.85      0.87       164\n",
      "        83.0       0.95      0.89      0.92       164\n",
      "        84.0       0.91      0.66      0.76       232\n",
      "        85.0       0.92      0.92      0.92       166\n",
      "        86.0       1.00      0.88      0.94       234\n",
      "        87.0       0.99      0.71      0.82       102\n",
      "        88.0       0.84      0.72      0.78       166\n",
      "        89.0       0.95      1.00      0.98       222\n",
      "        90.0       0.99      1.00      0.99       237\n",
      "        91.0       0.83      1.00      0.90       166\n",
      "        92.0       0.93      0.79      0.85       166\n",
      "        93.0       0.83      1.00      0.91       148\n",
      "        94.0       1.00      0.64      0.78       234\n",
      "        95.0       0.83      1.00      0.91       222\n",
      "        96.0       0.97      1.00      0.99       222\n",
      "        97.0       1.00      1.00      1.00       164\n",
      "        98.0       0.87      0.99      0.93       164\n",
      "        99.0       0.89      0.97      0.93       166\n",
      "       100.0       0.87      1.00      0.93       163\n",
      "       101.0       0.92      1.00      0.96       166\n",
      "       102.0       0.98      0.70      0.81       151\n",
      "       103.0       1.00      1.00      1.00       142\n",
      "       104.0       0.96      1.00      0.98       304\n",
      "       105.0       1.00      0.75      0.86       164\n",
      "       106.0       1.00      1.00      1.00       153\n",
      "       107.0       0.85      0.93      0.89       150\n",
      "       108.0       1.00      0.94      0.97       151\n",
      "       109.0       1.00      0.87      0.93       150\n",
      "       110.0       0.95      0.95      0.95       150\n",
      "       111.0       1.00      1.00      1.00       166\n",
      "       112.0       0.89      1.00      0.94       164\n",
      "       113.0       1.00      1.00      1.00       166\n",
      "       114.0       1.00      1.00      1.00       164\n",
      "       115.0       1.00      1.00      1.00       162\n",
      "       116.0       1.00      0.75      0.86       164\n",
      "       117.0       0.82      0.93      0.87       246\n",
      "       118.0       1.00      1.00      1.00       166\n",
      "       119.0       0.92      1.00      0.96       166\n",
      "       120.0       1.00      1.00      1.00       246\n",
      "       121.0       0.95      1.00      0.97       225\n",
      "       122.0       1.00      0.95      0.97       246\n",
      "       123.0       1.00      1.00      1.00       160\n",
      "       124.0       1.00      1.00      1.00       164\n",
      "       125.0       1.00      0.99      1.00       228\n",
      "       126.0       1.00      1.00      1.00       127\n",
      "       127.0       0.99      1.00      1.00       158\n",
      "       128.0       1.00      1.00      1.00       153\n",
      "       129.0       0.97      1.00      0.99       249\n",
      "       130.0       1.00      1.00      1.00       157\n",
      "\n",
      "    accuracy                           0.94     22688\n",
      "   macro avg       0.94      0.94      0.94     22688\n",
      "weighted avg       0.95      0.94      0.94     22688\n",
      "\n"
     ]
    }
   ],
   "source": [
    "y_pred = cnn2.predict(X_test)\n",
    "y_pred_classes = [np.argmax(element) for element in y_pred]\n",
    "\n",
    "print(classification_report(y_test, y_pred_classes))"
   ]
  },
  {
   "cell_type": "markdown",
   "id": "82a1a3bd",
   "metadata": {},
   "source": [
    "Below model(cnn) has following configuration:\n",
    "Number of the layer: 2 with progressive filters - 32, 64\n",
    "        Optimizer: Adam (Referenced from internet, it is like general gradient descent, but it performs gradient \n",
    "        descent on the random selection of the dataset instead of whole data."
   ]
  },
  {
   "cell_type": "code",
   "execution_count": 19,
   "id": "7c0a7a88",
   "metadata": {},
   "outputs": [],
   "source": [
    "from sklearn.metrics import confusion_matrix , classification_report\n",
    "\n",
    "cnn = models.Sequential([\n",
    "    layers.Conv2D(filters=32, kernel_size=(3, 3), activation='relu', input_shape=(50,50, 3)),\n",
    "    layers.MaxPooling2D((2, 2)),\n",
    "    \n",
    "    layers.Conv2D(filters=64, kernel_size=(3, 3), activation='relu'),\n",
    "    layers.MaxPooling2D((2, 2)),\n",
    "    \n",
    "    layers.Flatten(),\n",
    "    layers.Dense(30, activation='relu'),\n",
    "    layers.Dense(131, activation='softmax')\n",
    "])"
   ]
  },
  {
   "cell_type": "code",
   "execution_count": 20,
   "id": "2568177e",
   "metadata": {},
   "outputs": [],
   "source": [
    "cnn.compile(optimizer='adam',\n",
    "              loss='sparse_categorical_crossentropy',\n",
    "              metrics=['accuracy'])"
   ]
  },
  {
   "cell_type": "code",
   "execution_count": 21,
   "id": "ff9f5798",
   "metadata": {
    "scrolled": true
   },
   "outputs": [
    {
     "name": "stdout",
     "output_type": "stream",
     "text": [
      "Epoch 1/30\n",
      "2116/2116 [==============================] - 62s 29ms/step - loss: 1.1381 - accuracy: 0.7018\n",
      "Epoch 2/30\n",
      "2116/2116 [==============================] - 65s 31ms/step - loss: 0.1705 - accuracy: 0.9454\n",
      "Epoch 3/30\n",
      "2116/2116 [==============================] - 63s 30ms/step - loss: 0.0886 - accuracy: 0.9722\n",
      "Epoch 4/30\n",
      "2116/2116 [==============================] - 64s 30ms/step - loss: 0.0629 - accuracy: 0.9805\n",
      "Epoch 5/30\n",
      "2116/2116 [==============================] - 66s 31ms/step - loss: 0.0523 - accuracy: 0.9835\n",
      "Epoch 6/30\n",
      "2116/2116 [==============================] - 63s 30ms/step - loss: 0.0440 - accuracy: 0.9863\n",
      "Epoch 7/30\n",
      "2116/2116 [==============================] - 62s 29ms/step - loss: 0.0433 - accuracy: 0.9864\n",
      "Epoch 8/30\n",
      "2116/2116 [==============================] - 63s 30ms/step - loss: 0.0341 - accuracy: 0.9904\n",
      "Epoch 9/30\n",
      "2116/2116 [==============================] - 67s 32ms/step - loss: 0.0397 - accuracy: 0.9881\n",
      "Epoch 10/30\n",
      "2116/2116 [==============================] - 74s 35ms/step - loss: 0.0305 - accuracy: 0.9907\n",
      "Epoch 11/30\n",
      "2116/2116 [==============================] - 64s 30ms/step - loss: 0.0229 - accuracy: 0.9937\n",
      "Epoch 12/30\n",
      "2116/2116 [==============================] - 63s 30ms/step - loss: 0.0296 - accuracy: 0.9912\n",
      "Epoch 13/30\n",
      "2116/2116 [==============================] - 61s 29ms/step - loss: 0.0262 - accuracy: 0.9927\n",
      "Epoch 14/30\n",
      "2116/2116 [==============================] - 69s 32ms/step - loss: 0.0166 - accuracy: 0.9953\n",
      "Epoch 15/30\n",
      "2116/2116 [==============================] - 58s 28ms/step - loss: 0.0201 - accuracy: 0.9946\n",
      "Epoch 16/30\n",
      "2116/2116 [==============================] - 57s 27ms/step - loss: 0.0161 - accuracy: 0.9952\n",
      "Epoch 17/30\n",
      "2116/2116 [==============================] - 58s 28ms/step - loss: 0.0253 - accuracy: 0.9932\n",
      "Epoch 18/30\n",
      "2116/2116 [==============================] - 58s 28ms/step - loss: 0.0191 - accuracy: 0.9948\n",
      "Epoch 19/30\n",
      "2116/2116 [==============================] - 62s 29ms/step - loss: 0.0219 - accuracy: 0.9942\n",
      "Epoch 20/30\n",
      "2116/2116 [==============================] - 62s 29ms/step - loss: 0.0188 - accuracy: 0.9952\n",
      "Epoch 21/30\n",
      "2116/2116 [==============================] - 65s 31ms/step - loss: 0.0105 - accuracy: 0.9970\n",
      "Epoch 22/30\n",
      "2116/2116 [==============================] - 63s 30ms/step - loss: 0.0187 - accuracy: 0.9949\n",
      "Epoch 23/30\n",
      "2116/2116 [==============================] - 61s 29ms/step - loss: 5.8995e-05 - accuracy: 1.0000\n",
      "Epoch 24/30\n",
      "2116/2116 [==============================] - 64s 30ms/step - loss: 1.3785e-05 - accuracy: 1.0000\n",
      "Epoch 25/30\n",
      "2116/2116 [==============================] - 64s 30ms/step - loss: 6.6140e-06 - accuracy: 1.0000\n",
      "Epoch 26/30\n",
      "2116/2116 [==============================] - 66s 31ms/step - loss: 3.0730e-06 - accuracy: 1.0000\n",
      "Epoch 27/30\n",
      "2116/2116 [==============================] - 63s 30ms/step - loss: 0.0197 - accuracy: 0.9952\n",
      "Epoch 28/30\n",
      "2116/2116 [==============================] - 61s 29ms/step - loss: 0.0043 - accuracy: 0.9991\n",
      "Epoch 29/30\n",
      "2116/2116 [==============================] - 64s 30ms/step - loss: 1.6202e-05 - accuracy: 1.0000\n",
      "Epoch 30/30\n",
      "2116/2116 [==============================] - 65s 31ms/step - loss: 9.0447e-06 - accuracy: 1.0000\n"
     ]
    },
    {
     "data": {
      "text/plain": [
       "<keras.callbacks.History at 0x222b654b040>"
      ]
     },
     "execution_count": 21,
     "metadata": {},
     "output_type": "execute_result"
    }
   ],
   "source": [
    "cnn.fit(X_train, y_train, epochs = 30)"
   ]
  },
  {
   "cell_type": "code",
   "execution_count": 22,
   "id": "1aa9438f",
   "metadata": {},
   "outputs": [
    {
     "name": "stdout",
     "output_type": "stream",
     "text": [
      "709/709 [==============================] - 5s 7ms/step - loss: 0.4920 - accuracy: 0.9604\n"
     ]
    },
    {
     "data": {
      "text/plain": [
       "[0.49195122718811035, 0.9603755474090576]"
      ]
     },
     "execution_count": 22,
     "metadata": {},
     "output_type": "execute_result"
    }
   ],
   "source": [
    "cnn.evaluate(X_test,y_test)"
   ]
  },
  {
   "cell_type": "code",
   "execution_count": 24,
   "id": "185ed77e",
   "metadata": {
    "scrolled": true
   },
   "outputs": [
    {
     "name": "stdout",
     "output_type": "stream",
     "text": [
      "Classification Report:               precision    recall  f1-score   support\n",
      "\n",
      "         0.0       0.81      0.70      0.75       164\n",
      "         1.0       1.00      1.00      1.00       148\n",
      "         2.0       1.00      1.00      1.00       160\n",
      "         3.0       1.00      1.00      1.00       164\n",
      "         4.0       0.77      1.00      0.87       161\n",
      "         5.0       0.89      1.00      0.94       164\n",
      "         6.0       0.85      1.00      0.92       152\n",
      "         7.0       0.95      0.87      0.91       164\n",
      "         8.0       1.00      0.90      0.95       164\n",
      "         9.0       0.90      0.76      0.82       144\n",
      "        10.0       0.98      0.93      0.96       166\n",
      "        11.0       1.00      1.00      1.00       164\n",
      "        12.0       1.00      1.00      1.00       219\n",
      "        13.0       1.00      1.00      1.00       164\n",
      "        14.0       1.00      0.93      0.96       143\n",
      "        15.0       1.00      1.00      1.00       166\n",
      "        16.0       0.92      0.89      0.91       166\n",
      "        17.0       0.92      0.99      0.95       152\n",
      "        18.0       0.99      0.89      0.94       166\n",
      "        19.0       0.83      0.82      0.83       150\n",
      "        20.0       1.00      1.00      1.00       154\n",
      "        21.0       0.96      1.00      0.98       166\n",
      "        22.0       1.00      1.00      1.00       164\n",
      "        23.0       0.80      0.99      0.89       164\n",
      "        24.0       0.92      0.96      0.94       166\n",
      "        25.0       0.99      1.00      0.99       234\n",
      "        26.0       1.00      1.00      1.00       164\n",
      "        27.0       1.00      1.00      1.00       246\n",
      "        28.0       1.00      0.83      0.91       246\n",
      "        29.0       1.00      1.00      1.00       164\n",
      "        30.0       1.00      1.00      1.00       164\n",
      "        31.0       0.91      1.00      0.95       164\n",
      "        32.0       0.95      0.93      0.94       153\n",
      "        33.0       1.00      1.00      1.00       166\n",
      "        34.0       0.93      1.00      0.97       166\n",
      "        35.0       1.00      0.53      0.69       150\n",
      "        36.0       1.00      0.60      0.75       154\n",
      "        37.0       0.73      1.00      0.84       130\n",
      "        38.0       1.00      0.88      0.94       156\n",
      "        39.0       0.91      1.00      0.95       166\n",
      "        40.0       0.92      0.81      0.86       156\n",
      "        41.0       1.00      1.00      1.00       234\n",
      "        42.0       0.85      0.98      0.91        99\n",
      "        43.0       0.99      1.00      1.00       166\n",
      "        44.0       1.00      1.00      1.00       328\n",
      "        45.0       1.00      1.00      1.00       164\n",
      "        46.0       0.98      1.00      0.99       166\n",
      "        47.0       1.00      1.00      1.00       166\n",
      "        48.0       0.98      1.00      0.99       164\n",
      "        49.0       1.00      1.00      1.00       158\n",
      "        50.0       1.00      1.00      1.00       166\n",
      "        51.0       1.00      1.00      1.00       164\n",
      "        52.0       1.00      1.00      1.00       166\n",
      "        53.0       1.00      1.00      1.00       157\n",
      "        54.0       1.00      1.00      1.00       166\n",
      "        55.0       1.00      1.00      1.00       166\n",
      "        56.0       1.00      1.00      1.00       156\n",
      "        57.0       0.96      1.00      0.98       157\n",
      "        58.0       1.00      1.00      1.00       166\n",
      "        59.0       1.00      1.00      1.00       164\n",
      "        60.0       1.00      1.00      1.00       166\n",
      "        61.0       1.00      0.99      0.99       166\n",
      "        62.0       1.00      1.00      1.00       166\n",
      "        63.0       1.00      1.00      1.00       166\n",
      "        64.0       1.00      1.00      1.00       166\n",
      "        65.0       0.99      1.00      1.00       142\n",
      "        66.0       0.73      1.00      0.84       102\n",
      "        67.0       1.00      0.99      1.00       166\n",
      "        68.0       0.99      1.00      1.00       246\n",
      "        69.0       1.00      1.00      1.00       164\n",
      "        70.0       0.68      0.71      0.69       164\n",
      "        71.0       0.77      0.98      0.86       160\n",
      "        72.0       1.00      1.00      1.00       218\n",
      "        73.0       0.95      0.93      0.94       178\n",
      "        74.0       0.97      1.00      0.99       150\n",
      "        75.0       0.90      1.00      0.95       155\n",
      "        76.0       0.68      0.93      0.79       146\n",
      "        77.0       1.00      1.00      1.00       160\n",
      "        78.0       1.00      0.99      1.00       164\n",
      "        79.0       0.95      1.00      0.98       166\n",
      "        80.0       0.94      0.98      0.96       164\n",
      "        81.0       0.90      1.00      0.95       246\n",
      "        82.0       0.94      0.80      0.86       164\n",
      "        83.0       1.00      0.63      0.78       164\n",
      "        84.0       0.99      0.53      0.69       232\n",
      "        85.0       1.00      0.87      0.93       166\n",
      "        86.0       1.00      1.00      1.00       234\n",
      "        87.0       1.00      0.75      0.85       102\n",
      "        88.0       1.00      1.00      1.00       166\n",
      "        89.0       0.96      1.00      0.98       222\n",
      "        90.0       0.84      0.95      0.89       237\n",
      "        91.0       0.98      1.00      0.99       166\n",
      "        92.0       0.99      0.98      0.99       166\n",
      "        93.0       0.98      1.00      0.99       148\n",
      "        94.0       1.00      1.00      1.00       234\n",
      "        95.0       1.00      1.00      1.00       222\n",
      "        96.0       1.00      1.00      1.00       222\n",
      "        97.0       1.00      1.00      1.00       164\n",
      "        98.0       0.96      0.94      0.95       164\n",
      "        99.0       0.99      1.00      1.00       166\n",
      "       100.0       1.00      1.00      1.00       163\n",
      "       101.0       0.99      0.99      0.99       166\n",
      "       102.0       1.00      1.00      1.00       151\n",
      "       103.0       1.00      1.00      1.00       142\n",
      "       104.0       0.92      1.00      0.96       304\n",
      "       105.0       1.00      1.00      1.00       164\n",
      "       106.0       1.00      1.00      1.00       153\n",
      "       107.0       0.96      1.00      0.98       150\n",
      "       108.0       0.92      0.94      0.93       151\n",
      "       109.0       0.95      0.99      0.97       150\n",
      "       110.0       0.96      1.00      0.98       150\n",
      "       111.0       0.88      1.00      0.94       166\n",
      "       112.0       0.98      1.00      0.99       164\n",
      "       113.0       1.00      1.00      1.00       166\n",
      "       114.0       1.00      1.00      1.00       164\n",
      "       115.0       0.99      1.00      1.00       162\n",
      "       116.0       1.00      0.82      0.90       164\n",
      "       117.0       0.98      0.91      0.95       246\n",
      "       118.0       0.88      1.00      0.94       166\n",
      "       119.0       1.00      1.00      1.00       166\n",
      "       120.0       1.00      1.00      1.00       246\n",
      "       121.0       0.91      1.00      0.95       225\n",
      "       122.0       1.00      0.91      0.95       246\n",
      "       123.0       1.00      1.00      1.00       160\n",
      "       124.0       1.00      1.00      1.00       164\n",
      "       125.0       0.99      0.95      0.97       228\n",
      "       126.0       1.00      1.00      1.00       127\n",
      "       127.0       1.00      1.00      1.00       158\n",
      "       128.0       1.00      1.00      1.00       153\n",
      "       129.0       1.00      1.00      1.00       249\n",
      "       130.0       0.99      1.00      1.00       157\n",
      "\n",
      "    accuracy                           0.96     22688\n",
      "   macro avg       0.96      0.96      0.96     22688\n",
      "weighted avg       0.96      0.96      0.96     22688\n",
      "\n"
     ]
    }
   ],
   "source": [
    "y_pred = cnn.predict(X_test)\n",
    "y_pred_classes = [np.argmax(element) for element in y_pred]\n",
    "\n",
    "print(\"Classification Report:\", classification_report(y_test, y_pred_classes))"
   ]
  },
  {
   "cell_type": "markdown",
   "id": "bf14e17d",
   "metadata": {},
   "source": [
    "For the sake of comparison (epochs = 30) is used in both case.\n",
    "CONCLUSION: In our case Adam(ref top cell of this notebook) gives accuracy of (96%)  as compared to stochastic gradient descend which gives (93%). Thus the random selection of the data for training is more efficient.\n",
    "    As compared to other 2 methods( KNN and prototype), CNN gives the most efficient results."
   ]
  }
 ],
 "metadata": {
  "kernelspec": {
   "display_name": "Python 3 (ipykernel)",
   "language": "python",
   "name": "python3"
  },
  "language_info": {
   "codemirror_mode": {
    "name": "ipython",
    "version": 3
   },
   "file_extension": ".py",
   "mimetype": "text/x-python",
   "name": "python",
   "nbconvert_exporter": "python",
   "pygments_lexer": "ipython3",
   "version": "3.9.7"
  }
 },
 "nbformat": 4,
 "nbformat_minor": 5
}
