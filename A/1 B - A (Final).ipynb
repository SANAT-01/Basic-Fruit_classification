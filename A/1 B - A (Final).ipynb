{
 "cells": [
  {
   "cell_type": "markdown",
   "id": "62666442",
   "metadata": {},
   "source": [
    "This is combined code of both the members, as we tried different descripter to explore different techniques and analyze the accuracy."
   ]
  },
  {
   "cell_type": "code",
   "execution_count": null,
   "id": "bca31876",
   "metadata": {},
   "outputs": [],
   "source": [
    "# Importing libraries\n",
    "\n",
    "import numpy as np\n",
    "from keras.preprocessing import image\n",
    "import cv2 as cv\n",
    "import matplotlib.pyplot as plt\n",
    "from pathlib import Path\n",
    "import os\n",
    "from skimage import feature\n",
    "from sklearn.metrics import accuracy_score"
   ]
  },
  {
   "cell_type": "markdown",
   "id": "462b0219",
   "metadata": {},
   "source": [
    "From here on, Canny edge detector with flattening is used to extract the feature of the images. Later we will see the results for HOG."
   ]
  },
  {
   "cell_type": "code",
   "execution_count": 30,
   "id": "6f2903e4",
   "metadata": {},
   "outputs": [],
   "source": [
    "def process(container_path): # to load images files\n",
    "    image_dir = Path(container_path)\n",
    "    folders = [directory for directory in image_dir.iterdir() if directory.is_dir()]\n",
    "    categories = [fo.name for fo in folders]\n",
    "    count = 0\n",
    "    train_img = []\n",
    "    counts = []\n",
    "    \n",
    "    for i, direc in enumerate(folders):\n",
    "        s = 0\n",
    "        sub_train = []\n",
    "        for file in direc.iterdir():\n",
    "            count += 1\n",
    "            s += 1\n",
    "            \n",
    "            img = cv.imread(str(file),0)\n",
    "            img_pred = cv.Canny(img,100,200)\n",
    "            img_pred = cv.resize(img_pred, (50, 50), interpolation=cv.INTER_AREA)\n",
    "            \n",
    "            # Reshape the image data into rows\n",
    "            img_pred = np.reshape(img_pred, (img_pred.shape[0], -1))\n",
    "            img_pred = img_pred.flatten()\n",
    "            \n",
    "            sub_train.append(img_pred)\n",
    "            \n",
    "        sub_train = np.array(sub_train)\n",
    "        train_img.append(sub_train)\n",
    "        counts.append(s)\n",
    "    \n",
    "    X = np.array(train_img)\n",
    "    return X,counts,categories\n"
   ]
  },
  {
   "cell_type": "code",
   "execution_count": 31,
   "id": "ab031812",
   "metadata": {},
   "outputs": [
    {
     "name": "stdout",
     "output_type": "stream",
     "text": [
      "Trainig Files imported successfully\n",
      "13 Categories of fruits\n",
      "\n",
      "Fruit--Count\n",
      "\n",
      "Apple Braeburn -- 492\n",
      "Apple Crimson Snow -- 444\n",
      "Avocado -- 427\n",
      "Banana -- 490\n",
      "Beetroot -- 450\n",
      "Cactus fruit -- 490\n",
      "Cantaloupe 1 -- 492\n",
      "Dates -- 490\n",
      "Eggplant -- 468\n",
      "Grape White -- 490\n",
      "Guava -- 490\n",
      "Passion Fruit -- 490\n",
      "Potato Red -- 450\n"
     ]
    },
    {
     "name": "stderr",
     "output_type": "stream",
     "text": [
      "C:\\Users\\USER\\AppData\\Local\\Temp/ipykernel_21840/589802224.py:30: VisibleDeprecationWarning: Creating an ndarray from ragged nested sequences (which is a list-or-tuple of lists-or-tuples-or ndarrays with different lengths or shapes) is deprecated. If you meant to do this, you must specify 'dtype=object' when creating the ndarray.\n",
      "  X = np.array(train_img)\n"
     ]
    }
   ],
   "source": [
    "# Train dataset\n",
    "\n",
    "X_train = []\n",
    "X_train,counts,categories = process(path0+\"\\Training\")\n",
    "print(\"Trainig Files imported successfully\")\n",
    "\n",
    "print(len(X_train),\"Categories of fruits\\n\")\n",
    "print(\"Fruit--Count\\n\")\n",
    "for i in range(len(X_train)):\n",
    "    print(categories[i],\"--\",counts[i])"
   ]
  },
  {
   "cell_type": "code",
   "execution_count": 32,
   "id": "f540a0c7",
   "metadata": {},
   "outputs": [],
   "source": [
    "fruits = []\n",
    "for l in X_train:\n",
    "    sm = [0]*2500\n",
    "    for i in l:\n",
    "        for ind,j in enumerate(i):\n",
    "            sm[ind] += j\n",
    "    sm = np.array(sm)\n",
    "    avg = sm/2500\n",
    "    fruits.append(avg)\n",
    "    \n",
    "fruits_mean = fruits"
   ]
  },
  {
   "cell_type": "code",
   "execution_count": 33,
   "id": "395b47ef",
   "metadata": {},
   "outputs": [],
   "source": [
    "import numpy as np\n",
    "from numpy import linalg as LA\n",
    "import math\n",
    "\n",
    "def cosine_distance(v1,v2): # input vectors are numpy arrays\n",
    "    \"\"\"\"to compute cosine distance and retrn distance\"\"\"\n",
    "    v1n = v1 / LA.norm(v1)\n",
    "    v2n = v2 / LA.norm(v2)\n",
    "    dist = 1-v1n.dot(v2n)\n",
    "    return dist\n",
    "\n",
    "def hamming(a,b): # input vectors are numpy arrays\n",
    "    \"\"\"\"to compute hamming distance and retrn distance\"\"\"\n",
    "    sum=0\n",
    "    for x in range(len(a)):\n",
    "        if a[x]!=b[x]:\n",
    "            sum+=1\n",
    "        else:\n",
    "            continue\n",
    "    return sum\n",
    "\n",
    "def infnorm(a,b): # input vectors are numpy arrays\n",
    "  \"\"\"\"to compute infinity norm distance and retrn distance\"\"\"\n",
    "  d=0\n",
    "  for x in range(len(a)):\n",
    "    if d < abs(a[x]-b[x]):\n",
    "      d=abs(a[x]-b[x])\n",
    "    else:\n",
    "      continue\n",
    "  return d\n",
    "\n",
    "\n",
    "def Pnorm(v1,v2,p=2): # input vectors are numpy arrays\n",
    "  \"\"\"\"to compute p norm distance and retrn distance\"\"\"\n",
    "  if p==\"infinite\":\n",
    "    distance =infnorm(v1,v2)\n",
    "\n",
    "  elif int(p)==0:\n",
    "    p=int(p)\n",
    "    distance =hamming(v1,v2)\n",
    "\n",
    "  else:\n",
    "    p=int(p)\n",
    "    dist=0\n",
    "    for i in range(np.shape(v1)[0]):\n",
    "      dist = dist+(abs(v1[i]-v2[i]))**p\n",
    "    distance =(dist)**(1./p)\n",
    "\n",
    "  return distance"
   ]
  },
  {
   "cell_type": "code",
   "execution_count": 34,
   "id": "696572b6",
   "metadata": {},
   "outputs": [],
   "source": [
    "def distan(img_test):\n",
    "    mi = float(\"inf\")\n",
    "    distances = []\n",
    "    for ind,i in enumerate(fruits_mean):\n",
    "        dist = (Pnorm(img_test,i))\n",
    "        if dist <= mi :\n",
    "            mi = dist\n",
    "            index = ind\n",
    "\n",
    "        distances.append(dist)\n",
    "    \n",
    "    return categories[index]"
   ]
  },
  {
   "cell_type": "code",
   "execution_count": 39,
   "id": "a5568f87",
   "metadata": {
    "scrolled": true
   },
   "outputs": [
    {
     "name": "stdout",
     "output_type": "stream",
     "text": [
      "Accuracy of Apple Braeburn is 0.6707317073170732\n",
      "Accuracy of Apple Crimson Snow is 0.05405405405405406\n",
      "Accuracy of Avocado is 0.13986013986013987\n",
      "Accuracy of Banana is 0.27710843373493976\n",
      "Accuracy of Cactus fruit is 0.0\n",
      "Accuracy of Cantaloupe 1 is 0.0\n",
      "Accuracy of Dates is 0.0\n",
      "Accuracy of Eggplant is 0.7692307692307693\n",
      "Accuracy of Grape White is 0.0\n",
      "Accuracy of Guava is 0.0\n",
      "Accuracy of Passion Fruit is 0.018072289156626505\n",
      "Accuracy of Potato Red is 0.19333333333333333\n",
      "Eggplant\n"
     ]
    }
   ],
   "source": [
    "path1 = r'D:\\DOC\\COLLEGE DOC\\NOTES\\SEMESTER 4\\Data analysis\\fr\\fruits-360\\Test'\n",
    "\n",
    "image_dir = Path(path1)\n",
    "folders = [directory for directory in image_dir.iterdir() if directory.is_dir()]\n",
    "categories = [fo.name for fo in folders]\n",
    "count = 0\n",
    "train_img = []\n",
    "s = 0\n",
    "y1_test = []\n",
    "y1_pred = []\n",
    "for i, direc in enumerate(folders):\n",
    "    sub_train = []\n",
    "    counts = 0\n",
    "    ss = 0\n",
    "    for file in direc.iterdir():\n",
    "        count += 1\n",
    "        counts += 1\n",
    "        \n",
    "        img = cv.imread(str(file),0)\n",
    "        img_pred = cv.Canny(img,100,200)\n",
    "            \n",
    "        img_pred = cv.resize(img_pred, (50, 50), interpolation=cv.INTER_AREA)\n",
    "            \n",
    "        # Reshape the image data into rows\n",
    "        img_pred = np.reshape(img_pred, (img_pred.shape[0], -1))\n",
    "        img_pred = img_pred.flatten()\n",
    "        y = distan(img_pred)\n",
    "        ipred = distan(img_pred)\n",
    "        y1_test.append(categories[i])\n",
    "        y1_pred.append(ipred)\n",
    "        if categories[i] == ipred:\n",
    "            s += 1\n",
    "            ss += 1\n",
    "        \n",
    "    print(\"Accuracy of\",categories[i],\"is\",ss/counts)\n",
    "print(ipred)"
   ]
  },
  {
   "cell_type": "code",
   "execution_count": 41,
   "id": "59d0be79",
   "metadata": {},
   "outputs": [
    {
     "name": "stdout",
     "output_type": "stream",
     "text": [
      "Accuracy: 0.17490890161374284\n",
      "Precision: 0.36130015088329526\n",
      "Recall: 0.17490890161374284\n",
      "F1 Score: 0.13520529053365718\n"
     ]
    }
   ],
   "source": [
    "acc = accuracy_score(y1_test,y1_pred)\n",
    "prec = precision_score(y1_test,y1_pred,average='weighted',zero_division=1)\n",
    "recall = recall_score(y1_test,y1_pred,average='weighted',zero_division=1)\n",
    "f1score = f1_score(y1_test,y1_pred,average='weighted')\n",
    "print(\"Accuracy:\",acc)\n",
    "print(\"Precision:\",prec)\n",
    "print(\"Recall:\",recall)\n",
    "print(\"F1 Score:\",f1score)"
   ]
  },
  {
   "cell_type": "markdown",
   "id": "598036ed",
   "metadata": {},
   "source": [
    "The expected average accuracy is very low, as consedering only edge detection; many fruits will resembel in outer shape and thus the accuracy score drops.\n",
    "To improve the results we will use HOG descriptor."
   ]
  },
  {
   "cell_type": "code",
   "execution_count": 25,
   "id": "e5aa5024",
   "metadata": {},
   "outputs": [],
   "source": [
    "# Path to the dataset\n",
    "path0 = r\"D:\\DOC\\COLLEGE DOC\\NOTES\\SEMESTER 4\\Data analysis\\fr\\fruits-360\""
   ]
  },
  {
   "cell_type": "markdown",
   "id": "b85a7473",
   "metadata": {},
   "source": [
    "This is prototype code using HOG descripter\":"
   ]
  },
  {
   "cell_type": "code",
   "execution_count": 26,
   "id": "51825522",
   "metadata": {},
   "outputs": [
    {
     "name": "stdout",
     "output_type": "stream",
     "text": [
      "Apple Braeburn\n",
      "Apple Crimson Snow\n",
      "Avocado\n",
      "Banana\n",
      "Beetroot\n",
      "Cactus fruit\n",
      "Cantaloupe 1\n",
      "Dates\n",
      "Eggplant\n",
      "Grape White\n",
      "Guava\n",
      "Passion Fruit\n",
      "Potato Red\n"
     ]
    }
   ],
   "source": [
    "#Creating prototype for each fruit type\n",
    "images = []\n",
    "labels = []\n",
    "prot = []\n",
    "image_paths = os.listdir(f\"D:/DOC/COLLEGE DOC/NOTES/SEMESTER 4/Data analysis/fr/fruits-360/Training\")\n",
    "for path in image_paths:\n",
    "    all_images = os.listdir(f\"D:/DOC/COLLEGE DOC/NOTES/SEMESTER 4/Data analysis/fr/fruits-360/Training/{path}\")\n",
    "    images = []\n",
    "    means = []\n",
    "    for image in all_images:\n",
    "        image_path = f\"D:/DOC/COLLEGE DOC/NOTES/SEMESTER 4/Data analysis/fr/fruits-360/Training/{path}/{image}\"\n",
    "        image = cv.imread(image_path)\n",
    "        image = cv.resize(image, (64,64),interpolation=cv.INTER_AREA)\n",
    "        image = cv.cvtColor(image, cv.COLOR_BGR2GRAY)\n",
    "        hog_desc = feature.hog(image, orientations=9, pixels_per_cell=(8, 8),\n",
    "            cells_per_block=(2, 2), transform_sqrt=True, block_norm='L2-Hys')\n",
    "        if len(means)==0:\n",
    "            means=hog_desc\n",
    "        else:\n",
    "            for i in range(len(means)):\n",
    "                means[i]=means[i]+hog_desc[i]\n",
    "    cnt=len(means)\n",
    "    for i in range(len(means)):\n",
    "        means[i]=means[i]/cnt\n",
    "    prot.append(means)\n",
    "    labels.append(path)\n",
    "    print(path)\n"
   ]
  },
  {
   "cell_type": "markdown",
   "id": "453b91d7",
   "metadata": {},
   "source": [
    "Predicting the result using the prtotype method:"
   ]
  },
  {
   "cell_type": "code",
   "execution_count": 42,
   "id": "cdd8aa14",
   "metadata": {},
   "outputs": [
    {
     "name": "stdout",
     "output_type": "stream",
     "text": [
      "Apple Braeburn\n",
      "Apple Crimson Snow\n",
      "Avocado\n",
      "Banana\n",
      "Cactus fruit\n",
      "Cantaloupe 1\n",
      "Dates\n",
      "Eggplant\n",
      "Grape White\n",
      "Guava\n",
      "Passion Fruit\n",
      "Potato Red\n"
     ]
    }
   ],
   "source": [
    "test_image_paths = os.listdir(f\"D:/DOC/COLLEGE DOC/NOTES/SEMESTER 4/Data analysis/fr/fruits-360/Test\")\n",
    "prediction=[]\n",
    "test_label= []\n",
    "y2_test= []\n",
    "y2_pred = []\n",
    "for path in test_image_paths:\n",
    "    # get all the image names\n",
    "    all_test_images = os.listdir(f\"D:/DOC/COLLEGE DOC/NOTES/SEMESTER 4/Data analysis/fr/fruits-360/Test/{path}\")\n",
    "    # iterate over the image names, get the label\n",
    "    image_pred=[]\n",
    "    for image in all_test_images:\n",
    "        image_path = f\"D:/DOC/COLLEGE DOC/NOTES/SEMESTER 4/Data analysis/fr/fruits-360/Test/{path}/{image}\"\n",
    "        image = cv.imread(image_path)\n",
    "        image = cv.resize(image, (64, 64))\n",
    "        image = cv.cvtColor(image, cv.COLOR_BGR2GRAY)\n",
    "        # get the HOG descriptor for the image\n",
    "        hog_desc = feature.hog(image, orientations=9, pixels_per_cell=(8, 8),\n",
    "            cells_per_block=(2, 2), transform_sqrt=True, block_norm='L2-Hys')\n",
    "        # update the data and labels\n",
    "        dist=[]\n",
    "        for i in prot:\n",
    "            dist.append(np.linalg.norm(i-hog_desc))\n",
    "        ipred = labels[dist.index(min(dist))]\n",
    "        image_pred.append(ipred)\n",
    "        y2_test.append(path)\n",
    "        y2_pred.append(ipred)\n",
    "    prediction.append(image_pred)\n",
    "    print(path)\n",
    "    test_label.append(path)\n",
    "    "
   ]
  },
  {
   "cell_type": "code",
   "execution_count": 43,
   "id": "0fe24326",
   "metadata": {},
   "outputs": [
    {
     "name": "stdout",
     "output_type": "stream",
     "text": [
      "Accuracy for the prediction of class Apple Braeburn is  0.5853658536585366\n",
      "Accuracy for the prediction of class Apple Crimson Snow is  0.10810810810810811\n",
      "Accuracy for the prediction of class Avocado is  0.42657342657342656\n",
      "Accuracy for the prediction of class Banana is  0.608433734939759\n",
      "Accuracy for the prediction of class Cactus fruit is  0.5\n",
      "Accuracy for the prediction of class Cantaloupe 1 is  1.0\n",
      "Accuracy for the prediction of class Dates is  0.5\n",
      "Accuracy for the prediction of class Eggplant is  0.0\n",
      "Accuracy for the prediction of class Grape White is  0.5\n",
      "Accuracy for the prediction of class Guava is  0.5662650602409639\n",
      "Accuracy for the prediction of class Passion Fruit is  0.6626506024096386\n",
      "Accuracy for the prediction of class Potato Red is  0.0\n",
      "\n",
      "Average is  0.4547830654942027\n"
     ]
    }
   ],
   "source": [
    "def accuracy(pred,real):\n",
    "    if len(real)==1:\n",
    "        real=real*len(pred)\n",
    "    return accuracy_score(pred,real)\n",
    "s=0\n",
    "for i in range(len(test_label)):\n",
    "    acc = accuracy(prediction[i],[test_label[i]])\n",
    "    s = s + acc\n",
    "    print(f\"Accuracy for the prediction of class {test_label[i]} is \",acc)\n",
    "print(\"\\nAverage is \",s/len(test_label))"
   ]
  },
  {
   "cell_type": "code",
   "execution_count": 44,
   "id": "29cc03ab",
   "metadata": {},
   "outputs": [
    {
     "name": "stdout",
     "output_type": "stream",
     "text": [
      "Accuracy: 0.46382092660072877\n",
      "Precision: 0.6690228851400865\n",
      "Recall: 0.46382092660072877\n",
      "F1 Score: 0.4577906449219629\n"
     ]
    }
   ],
   "source": [
    "acc = accuracy_score(y2_test,y2_pred)\n",
    "prec = precision_score(y2_test,y2_pred,average='weighted',zero_division=1)\n",
    "recall = recall_score(y2_test,y2_pred,average='weighted',zero_division=1)\n",
    "f1score = f1_score(y2_test,y2_pred,average='weighted')\n",
    "print(\"Accuracy:\",acc)\n",
    "print(\"Precision:\",prec)\n",
    "print(\"Recall:\",recall)\n",
    "print(\"F1 Score:\",f1score)"
   ]
  },
  {
   "cell_type": "markdown",
   "id": "e43c6507",
   "metadata": {},
   "source": [
    "The average accuracy improves drastically in case of the HOG desscriptor, consedering it can be due to the fact that HOG uses both angle and magnitude of the gradient."
   ]
  }
 ],
 "metadata": {
  "kernelspec": {
   "display_name": "Python 3 (ipykernel)",
   "language": "python",
   "name": "python3"
  },
  "language_info": {
   "codemirror_mode": {
    "name": "ipython",
    "version": 3
   },
   "file_extension": ".py",
   "mimetype": "text/x-python",
   "name": "python",
   "nbconvert_exporter": "python",
   "pygments_lexer": "ipython3",
   "version": "3.9.7"
  }
 },
 "nbformat": 4,
 "nbformat_minor": 5
}
